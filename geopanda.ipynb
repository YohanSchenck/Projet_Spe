{
 "cells": [
  {
   "cell_type": "code",
   "execution_count": 2,
   "metadata": {},
   "outputs": [],
   "source": [
    "import geopandas\n",
    "from highcharts_maps.chart import Chart\n",
    "from highcharts_maps.options.series.map import MapSeries"
   ]
  },
  {
   "cell_type": "code",
   "execution_count": 3,
   "metadata": {},
   "outputs": [],
   "source": [
    "df = geopandas.read_file(\"data/PARCELLES_GRAPHIQUES.shp\", engine=\"pyogrio\")"
   ]
  },
  {
   "cell_type": "code",
   "execution_count": 4,
   "metadata": {},
   "outputs": [
    {
     "data": {
      "text/html": [
       "<div>\n",
       "<style scoped>\n",
       "    .dataframe tbody tr th:only-of-type {\n",
       "        vertical-align: middle;\n",
       "    }\n",
       "\n",
       "    .dataframe tbody tr th {\n",
       "        vertical-align: top;\n",
       "    }\n",
       "\n",
       "    .dataframe thead th {\n",
       "        text-align: right;\n",
       "    }\n",
       "</style>\n",
       "<table border=\"1\" class=\"dataframe\">\n",
       "  <thead>\n",
       "    <tr style=\"text-align: right;\">\n",
       "      <th></th>\n",
       "      <th>ID_PARCEL</th>\n",
       "      <th>SURF_PARC</th>\n",
       "      <th>CODE_CULTU</th>\n",
       "      <th>CODE_GROUP</th>\n",
       "      <th>CULTURE_D1</th>\n",
       "      <th>CULTURE_D2</th>\n",
       "      <th>geometry</th>\n",
       "    </tr>\n",
       "  </thead>\n",
       "  <tbody>\n",
       "    <tr>\n",
       "      <th>0</th>\n",
       "      <td>9</td>\n",
       "      <td>1.71</td>\n",
       "      <td>PPH</td>\n",
       "      <td>18</td>\n",
       "      <td>None</td>\n",
       "      <td>None</td>\n",
       "      <td>POLYGON ((1074733.310 6884486.620, 1074739.320...</td>\n",
       "    </tr>\n",
       "    <tr>\n",
       "      <th>1</th>\n",
       "      <td>10</td>\n",
       "      <td>3.48</td>\n",
       "      <td>MIS</td>\n",
       "      <td>2</td>\n",
       "      <td>None</td>\n",
       "      <td>None</td>\n",
       "      <td>POLYGON ((1038562.699 6818438.690, 1038528.872...</td>\n",
       "    </tr>\n",
       "    <tr>\n",
       "      <th>2</th>\n",
       "      <td>20</td>\n",
       "      <td>0.37</td>\n",
       "      <td>PPH</td>\n",
       "      <td>18</td>\n",
       "      <td>None</td>\n",
       "      <td>None</td>\n",
       "      <td>POLYGON ((875283.838 6945167.046, 875264.075 6...</td>\n",
       "    </tr>\n",
       "    <tr>\n",
       "      <th>3</th>\n",
       "      <td>23</td>\n",
       "      <td>5.92</td>\n",
       "      <td>PPH</td>\n",
       "      <td>18</td>\n",
       "      <td>None</td>\n",
       "      <td>None</td>\n",
       "      <td>POLYGON ((897087.846 6836381.357, 896875.043 6...</td>\n",
       "    </tr>\n",
       "    <tr>\n",
       "      <th>4</th>\n",
       "      <td>39</td>\n",
       "      <td>0.34</td>\n",
       "      <td>J6S</td>\n",
       "      <td>11</td>\n",
       "      <td>None</td>\n",
       "      <td>None</td>\n",
       "      <td>POLYGON ((1023614.890 6790570.469, 1023614.454...</td>\n",
       "    </tr>\n",
       "    <tr>\n",
       "      <th>...</th>\n",
       "      <td>...</td>\n",
       "      <td>...</td>\n",
       "      <td>...</td>\n",
       "      <td>...</td>\n",
       "      <td>...</td>\n",
       "      <td>...</td>\n",
       "      <td>...</td>\n",
       "    </tr>\n",
       "    <tr>\n",
       "      <th>861964</th>\n",
       "      <td>9896745</td>\n",
       "      <td>0.45</td>\n",
       "      <td>PTR</td>\n",
       "      <td>19</td>\n",
       "      <td>None</td>\n",
       "      <td>None</td>\n",
       "      <td>POLYGON ((961459.378 6799673.632, 961441.651 6...</td>\n",
       "    </tr>\n",
       "    <tr>\n",
       "      <th>861965</th>\n",
       "      <td>9896755</td>\n",
       "      <td>0.58</td>\n",
       "      <td>VRC</td>\n",
       "      <td>21</td>\n",
       "      <td>None</td>\n",
       "      <td>None</td>\n",
       "      <td>POLYGON ((1029952.780 6838606.068, 1030031.097...</td>\n",
       "    </tr>\n",
       "    <tr>\n",
       "      <th>861966</th>\n",
       "      <td>9896756</td>\n",
       "      <td>0.57</td>\n",
       "      <td>VRC</td>\n",
       "      <td>21</td>\n",
       "      <td>None</td>\n",
       "      <td>None</td>\n",
       "      <td>POLYGON ((1020571.348 6781365.500, 1020573.593...</td>\n",
       "    </tr>\n",
       "    <tr>\n",
       "      <th>861967</th>\n",
       "      <td>9896769</td>\n",
       "      <td>10.53</td>\n",
       "      <td>CZH</td>\n",
       "      <td>5</td>\n",
       "      <td>None</td>\n",
       "      <td>None</td>\n",
       "      <td>POLYGON ((733317.509 6816278.381, 733329.911 6...</td>\n",
       "    </tr>\n",
       "    <tr>\n",
       "      <th>861968</th>\n",
       "      <td>9896776</td>\n",
       "      <td>5.14</td>\n",
       "      <td>ORH</td>\n",
       "      <td>3</td>\n",
       "      <td>DPH</td>\n",
       "      <td>DVS</td>\n",
       "      <td>POLYGON ((951848.462 6845286.829, 951829.080 6...</td>\n",
       "    </tr>\n",
       "  </tbody>\n",
       "</table>\n",
       "<p>861969 rows × 7 columns</p>\n",
       "</div>"
      ],
      "text/plain": [
       "       ID_PARCEL  SURF_PARC CODE_CULTU CODE_GROUP CULTURE_D1 CULTURE_D2  \\\n",
       "0              9       1.71        PPH         18       None       None   \n",
       "1             10       3.48        MIS          2       None       None   \n",
       "2             20       0.37        PPH         18       None       None   \n",
       "3             23       5.92        PPH         18       None       None   \n",
       "4             39       0.34        J6S         11       None       None   \n",
       "...          ...        ...        ...        ...        ...        ...   \n",
       "861964   9896745       0.45        PTR         19       None       None   \n",
       "861965   9896755       0.58        VRC         21       None       None   \n",
       "861966   9896756       0.57        VRC         21       None       None   \n",
       "861967   9896769      10.53        CZH          5       None       None   \n",
       "861968   9896776       5.14        ORH          3        DPH        DVS   \n",
       "\n",
       "                                                 geometry  \n",
       "0       POLYGON ((1074733.310 6884486.620, 1074739.320...  \n",
       "1       POLYGON ((1038562.699 6818438.690, 1038528.872...  \n",
       "2       POLYGON ((875283.838 6945167.046, 875264.075 6...  \n",
       "3       POLYGON ((897087.846 6836381.357, 896875.043 6...  \n",
       "4       POLYGON ((1023614.890 6790570.469, 1023614.454...  \n",
       "...                                                   ...  \n",
       "861964  POLYGON ((961459.378 6799673.632, 961441.651 6...  \n",
       "861965  POLYGON ((1029952.780 6838606.068, 1030031.097...  \n",
       "861966  POLYGON ((1020571.348 6781365.500, 1020573.593...  \n",
       "861967  POLYGON ((733317.509 6816278.381, 733329.911 6...  \n",
       "861968  POLYGON ((951848.462 6845286.829, 951829.080 6...  \n",
       "\n",
       "[861969 rows x 7 columns]"
      ]
     },
     "execution_count": 4,
     "metadata": {},
     "output_type": "execute_result"
    }
   ],
   "source": [
    "df"
   ]
  },
  {
   "cell_type": "code",
   "execution_count": 5,
   "metadata": {},
   "outputs": [
    {
     "data": {
      "text/plain": [
       "Index(['ID_PARCEL', 'SURF_PARC', 'CODE_CULTU', 'CODE_GROUP', 'CULTURE_D1',\n",
       "       'CULTURE_D2', 'geometry'],\n",
       "      dtype='object')"
      ]
     },
     "execution_count": 5,
     "metadata": {},
     "output_type": "execute_result"
    }
   ],
   "source": [
    "df.columns"
   ]
  },
  {
   "cell_type": "code",
   "execution_count": null,
   "metadata": {},
   "outputs": [],
   "source": [
    "my_chart = Chart.from_geopandas(df,\n",
    "  property_map = {\n",
    "    'id': 'ID_PARCEL',\n",
    "    'name': 'ID_PARCEL',\n",
    "    'value': 'geometry'\n",
    "  },\n",
    "  series_type = 'map')"
   ]
  }
 ],
 "metadata": {
  "kernelspec": {
   "display_name": "Python 3.11.5 ('venv': venv)",
   "language": "python",
   "name": "python3"
  },
  "language_info": {
   "codemirror_mode": {
    "name": "ipython",
    "version": 3
   },
   "file_extension": ".py",
   "mimetype": "text/x-python",
   "name": "python",
   "nbconvert_exporter": "python",
   "pygments_lexer": "ipython3",
   "version": "3.11.5"
  },
  "orig_nbformat": 4,
  "vscode": {
   "interpreter": {
    "hash": "b7f25fdb61fc2f90ad48cf74761711ba20527248ec68921a283fcd2e0c8cc7b0"
   }
  }
 },
 "nbformat": 4,
 "nbformat_minor": 2
}
